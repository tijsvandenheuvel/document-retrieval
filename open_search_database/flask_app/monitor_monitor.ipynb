{
 "cells": [
  {
   "cell_type": "markdown",
   "metadata": {},
   "source": [
    "# monitoring the monitoring tool"
   ]
  },
  {
   "cell_type": "code",
   "execution_count": 2,
   "metadata": {},
   "outputs": [],
   "source": [
    "import os\n",
    "import time\n",
    "from opensearchpy import OpenSearch\n",
    "from watchdog.observers import Observer\n",
    "# from watchdog.events import FileSystemEventHandler\n",
    "from PyPDF2 import PdfReader\n",
    "from docx import Document as DocxDocument\n",
    "# from db_sqlite import initialize_database, log_event_to_db\n",
    "# from db_opensearch import generate_embeddings\n",
    "\n",
    "from urllib.request import urlopen\n",
    "from io import BytesIO"
   ]
  },
  {
   "cell_type": "code",
   "execution_count": 17,
   "metadata": {},
   "outputs": [],
   "source": [
    "INDEX_NAME = \"documents_test\""
   ]
  },
  {
   "cell_type": "code",
   "execution_count": 18,
   "metadata": {},
   "outputs": [],
   "source": [
    "def load_credentials(file_path):\n",
    "    credentials = {}\n",
    "    try:\n",
    "        with open(file_path, 'r') as file:\n",
    "            for line in file:\n",
    "                key, value = line.strip().split('=')\n",
    "                credentials[key] = value\n",
    "    except Exception as e:\n",
    "        print(f\"An error occurred while reading credentials: {e}\")\n",
    "    return credentials\n",
    "\n",
    "def configure_opensearch_client(credentials):\n",
    "    host = credentials.get('host', 'localhost')\n",
    "    port = int(credentials.get('port', 9200))\n",
    "    auth = (credentials.get('username'), credentials.get('password'))\n",
    "    \n",
    "    client = OpenSearch(\n",
    "        hosts=[{'host': host, 'port': port}],\n",
    "        http_auth=auth,\n",
    "        # use_ssl=True,\n",
    "        # verify_certs=False,\n",
    "        # ssl_show_warn=False\n",
    "    )\n",
    "    return client\n",
    "\n",
    "credentials = load_credentials('credentials.txt')\n",
    "opensearch_client = configure_opensearch_client(credentials)"
   ]
  },
  {
   "cell_type": "code",
   "execution_count": 19,
   "metadata": {},
   "outputs": [],
   "source": [
    "index_body = {\n",
    "    \"mappings\": {\n",
    "        \"properties\": {\n",
    "            \"content\": {\n",
    "                \"type\": \"text\"\n",
    "            },\n",
    "            \"file_path\": {\n",
    "                \"type\": \"keyword\"\n",
    "            }\n",
    "        }\n",
    "    }\n",
    "}"
   ]
  },
  {
   "cell_type": "code",
   "execution_count": 20,
   "metadata": {},
   "outputs": [
    {
     "data": {
      "text/plain": [
       "{'acknowledged': True}"
      ]
     },
     "execution_count": 20,
     "metadata": {},
     "output_type": "execute_result"
    }
   ],
   "source": [
    "opensearch_client.indices.delete(index='documents_test')"
   ]
  },
  {
   "cell_type": "code",
   "execution_count": 21,
   "metadata": {},
   "outputs": [],
   "source": [
    "if not opensearch_client.indices.exists(index=INDEX_NAME):\n",
    "    opensearch_client.indices.create(index=INDEX_NAME, body=index_body)"
   ]
  },
  {
   "cell_type": "code",
   "execution_count": 4,
   "metadata": {},
   "outputs": [],
   "source": [
    "def extract_text_from_pdf(file_path):\n",
    "    try:\n",
    "        # First attempt: Directly read the file\n",
    "        reader = PdfReader(file_path)\n",
    "        text = \"\".join(page.extract_text() or \"\" for page in reader.pages)\n",
    "        return text\n",
    "    except Exception as e:\n",
    "        print(f\"Direct read failed for {file_path}: {e}\")\n",
    "\n",
    "    try:\n",
    "        # Second attempt: Read the file as a URL stream\n",
    "        full_file_path = os.path.abspath(file_path)\n",
    "        pdf_url = f\"file://{full_file_path}\"\n",
    "        pdf_file = urlopen(pdf_url).read()\n",
    "        pdf_bytes_stream = BytesIO(pdf_file)\n",
    "        reader = PdfReader(pdf_bytes_stream)\n",
    "        text = \"\".join(page.extract_text() or \"\" for page in reader.pages)\n",
    "        return text\n",
    "    except Exception as e:\n",
    "        print(f\"URL stream read failed for {file_path}: {e}\")\n",
    "        return \"\"\n",
    "\n",
    "\n",
    "def extract_text_from_word(file_path):\n",
    "    try:\n",
    "        doc = DocxDocument(file_path)\n",
    "        text = \"\\n\".join(para.text for para in doc.paragraphs)\n",
    "        return text\n",
    "    except Exception as e:\n",
    "        print(f\"Error extracting text from Word document {file_path}: {e}\")\n",
    "        return \"\""
   ]
  },
  {
   "cell_type": "code",
   "execution_count": 25,
   "metadata": {},
   "outputs": [],
   "source": [
    "# Indexing function\n",
    "def index_document(file_path):\n",
    "    \n",
    "    if file_path.endswith(\".pdf\"):\n",
    "        content = extract_text_from_pdf(file_path)\n",
    "        # vector = generate_embeddings(content)\n",
    "    elif file_path.endswith(\".docx\"):\n",
    "        content = extract_text_from_word(file_path)\n",
    "        # vector = generate_embeddings(content)\n",
    "    else:\n",
    "        print(f\"Unsupported file type: {file_path}\")\n",
    "        content = \"\"\n",
    "        # vector = []\n",
    "    \n",
    "    # vector = generate_embeddings(content)\n",
    "\n",
    "    # Index the document in OpenSearch\n",
    "    document = {\n",
    "        \"content\": content,\n",
    "        # \"content_vector\": vector,\n",
    "        \"file_path\": file_path\n",
    "    }\n",
    "    doc_id = file_path\n",
    "    opensearch_client.index(index=INDEX_NAME, id=doc_id, body=document)\n",
    "    # print(f\"indexed document: {file_path}\")"
   ]
  },
  {
   "cell_type": "code",
   "execution_count": 24,
   "metadata": {},
   "outputs": [],
   "source": [
    "def check_and_index_existing_documents(directory):\n",
    "    for root, _, files in os.walk(directory):\n",
    "        for file_name in files:\n",
    "            file_path = os.path.join(root, file_name)\n",
    "            try:\n",
    "                # Check if document is already indexed\n",
    "                response = opensearch_client.get(index=INDEX_NAME, id=file_path, ignore=404)\n",
    "                if response.get('found', False):\n",
    "                    print(f\"Document already indexed: {file_path}\")\n",
    "                else:\n",
    "                    # log_event_to_db(\"created\", file_path)\n",
    "                    index_document(file_path)\n",
    "            except Exception as e:\n",
    "                print(f\"Error checking/indexing document {file_path}: {e}\")"
   ]
  },
  {
   "cell_type": "code",
   "execution_count": null,
   "metadata": {},
   "outputs": [],
   "source": [
    "directory = \"../documents/GDPRAllerlei_903\"\n",
    "check_and_index_existing_documents(directory)"
   ]
  },
  {
   "cell_type": "markdown",
   "metadata": {},
   "source": [
    "## try reading all PDFS"
   ]
  },
  {
   "cell_type": "code",
   "execution_count": null,
   "metadata": {},
   "outputs": [],
   "source": [
    "def read_all_pdfs(directory):\n",
    "    for root, _, files in os.walk(directory):\n",
    "        for file_name in files:\n",
    "            file_path = os.path.join(root, file_name)\n",
    "            if file_path.endswith(\".pdf\"):\n",
    "                    content = extract_text_from_pdf(file_path)\n",
    "                \n",
    "directory = \"../documents\"\n",
    "read_all_pdfs(directory)"
   ]
  },
  {
   "cell_type": "markdown",
   "metadata": {},
   "source": [
    "### check warning"
   ]
  },
  {
   "cell_type": "code",
   "execution_count": 7,
   "metadata": {},
   "outputs": [],
   "source": [
    "# indexed document: ../documents/EDPB_262/edpb_letter_out2020-0046_ngoshudecrees.pdf\n",
    "# /Users/tijsvandenheuvel/.virtualenvs/doc_retrieval_env/lib/python3.9/site-packages/PyPDF2/_cmap.py:142: PdfReadWarning: Advanced encoding /SymbolSetEncoding not implemented yet\n",
    "#   warnings.warn(\n",
    "# indexed document: ../documents/EDPB_262/edpb-2019-02-12plen-2.1edpb_work_program_en.pdf\n",
    "\n",
    "# I read online that the warnings can be inconsistent\n",
    "# Can I read these two files?\n"
   ]
  }
 ],
 "metadata": {
  "kernelspec": {
   "display_name": "doc_retrieval_env",
   "language": "python",
   "name": "python3"
  },
  "language_info": {
   "codemirror_mode": {
    "name": "ipython",
    "version": 3
   },
   "file_extension": ".py",
   "mimetype": "text/x-python",
   "name": "python",
   "nbconvert_exporter": "python",
   "pygments_lexer": "ipython3",
   "version": "3.9.6"
  }
 },
 "nbformat": 4,
 "nbformat_minor": 2
}
